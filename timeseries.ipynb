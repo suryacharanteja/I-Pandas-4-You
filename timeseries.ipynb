{
 "cells": [
  {
   "cell_type": "code",
   "execution_count": 1,
   "id": "156f4602",
   "metadata": {},
   "outputs": [],
   "source": [
    "import pandas as pd"
   ]
  },
  {
   "cell_type": "code",
   "execution_count": 2,
   "id": "bcce755c",
   "metadata": {},
   "outputs": [],
   "source": [
    "import matplotlib.pyplot as plt"
   ]
  },
  {
   "cell_type": "code",
   "execution_count": 3,
   "id": "2534fb90",
   "metadata": {},
   "outputs": [],
   "source": [
    "air_quality = pd.read_csv(\"./Airqualitylong.csv\")"
   ]
  },
  {
   "cell_type": "code",
   "execution_count": 4,
   "id": "7308cb77",
   "metadata": {},
   "outputs": [
    {
     "data": {
      "text/html": [
       "<div>\n",
       "<style scoped>\n",
       "    .dataframe tbody tr th:only-of-type {\n",
       "        vertical-align: middle;\n",
       "    }\n",
       "\n",
       "    .dataframe tbody tr th {\n",
       "        vertical-align: top;\n",
       "    }\n",
       "\n",
       "    .dataframe thead th {\n",
       "        text-align: right;\n",
       "    }\n",
       "</style>\n",
       "<table border=\"1\" class=\"dataframe\">\n",
       "  <thead>\n",
       "    <tr style=\"text-align: right;\">\n",
       "      <th></th>\n",
       "      <th>city</th>\n",
       "      <th>country</th>\n",
       "      <th>date.utc</th>\n",
       "      <th>location</th>\n",
       "      <th>parameter</th>\n",
       "      <th>value</th>\n",
       "      <th>unit</th>\n",
       "    </tr>\n",
       "  </thead>\n",
       "  <tbody>\n",
       "    <tr>\n",
       "      <th>0</th>\n",
       "      <td>Antwerpen</td>\n",
       "      <td>BE</td>\n",
       "      <td>2019-06-18 06:00:00+00:00</td>\n",
       "      <td>BETR801</td>\n",
       "      <td>pm25</td>\n",
       "      <td>18.0</td>\n",
       "      <td>µg/m³</td>\n",
       "    </tr>\n",
       "    <tr>\n",
       "      <th>1</th>\n",
       "      <td>Antwerpen</td>\n",
       "      <td>BE</td>\n",
       "      <td>2019-06-17 08:00:00+00:00</td>\n",
       "      <td>BETR801</td>\n",
       "      <td>pm25</td>\n",
       "      <td>6.5</td>\n",
       "      <td>µg/m³</td>\n",
       "    </tr>\n",
       "    <tr>\n",
       "      <th>2</th>\n",
       "      <td>Antwerpen</td>\n",
       "      <td>BE</td>\n",
       "      <td>2019-06-17 07:00:00+00:00</td>\n",
       "      <td>BETR801</td>\n",
       "      <td>pm25</td>\n",
       "      <td>18.5</td>\n",
       "      <td>µg/m³</td>\n",
       "    </tr>\n",
       "    <tr>\n",
       "      <th>3</th>\n",
       "      <td>Antwerpen</td>\n",
       "      <td>BE</td>\n",
       "      <td>2019-06-17 06:00:00+00:00</td>\n",
       "      <td>BETR801</td>\n",
       "      <td>pm25</td>\n",
       "      <td>16.0</td>\n",
       "      <td>µg/m³</td>\n",
       "    </tr>\n",
       "    <tr>\n",
       "      <th>4</th>\n",
       "      <td>Antwerpen</td>\n",
       "      <td>BE</td>\n",
       "      <td>2019-06-17 05:00:00+00:00</td>\n",
       "      <td>BETR801</td>\n",
       "      <td>pm25</td>\n",
       "      <td>7.5</td>\n",
       "      <td>µg/m³</td>\n",
       "    </tr>\n",
       "    <tr>\n",
       "      <th>...</th>\n",
       "      <td>...</td>\n",
       "      <td>...</td>\n",
       "      <td>...</td>\n",
       "      <td>...</td>\n",
       "      <td>...</td>\n",
       "      <td>...</td>\n",
       "      <td>...</td>\n",
       "    </tr>\n",
       "    <tr>\n",
       "      <th>5267</th>\n",
       "      <td>London</td>\n",
       "      <td>GB</td>\n",
       "      <td>2019-04-09 06:00:00+00:00</td>\n",
       "      <td>London Westminster</td>\n",
       "      <td>no2</td>\n",
       "      <td>41.0</td>\n",
       "      <td>µg/m³</td>\n",
       "    </tr>\n",
       "    <tr>\n",
       "      <th>5268</th>\n",
       "      <td>London</td>\n",
       "      <td>GB</td>\n",
       "      <td>2019-04-09 05:00:00+00:00</td>\n",
       "      <td>London Westminster</td>\n",
       "      <td>no2</td>\n",
       "      <td>41.0</td>\n",
       "      <td>µg/m³</td>\n",
       "    </tr>\n",
       "    <tr>\n",
       "      <th>5269</th>\n",
       "      <td>London</td>\n",
       "      <td>GB</td>\n",
       "      <td>2019-04-09 04:00:00+00:00</td>\n",
       "      <td>London Westminster</td>\n",
       "      <td>no2</td>\n",
       "      <td>41.0</td>\n",
       "      <td>µg/m³</td>\n",
       "    </tr>\n",
       "    <tr>\n",
       "      <th>5270</th>\n",
       "      <td>London</td>\n",
       "      <td>GB</td>\n",
       "      <td>2019-04-09 03:00:00+00:00</td>\n",
       "      <td>London Westminster</td>\n",
       "      <td>no2</td>\n",
       "      <td>67.0</td>\n",
       "      <td>µg/m³</td>\n",
       "    </tr>\n",
       "    <tr>\n",
       "      <th>5271</th>\n",
       "      <td>London</td>\n",
       "      <td>GB</td>\n",
       "      <td>2019-04-09 02:00:00+00:00</td>\n",
       "      <td>London Westminster</td>\n",
       "      <td>no2</td>\n",
       "      <td>67.0</td>\n",
       "      <td>µg/m³</td>\n",
       "    </tr>\n",
       "  </tbody>\n",
       "</table>\n",
       "<p>5272 rows × 7 columns</p>\n",
       "</div>"
      ],
      "text/plain": [
       "           city country                   date.utc            location  \\\n",
       "0     Antwerpen      BE  2019-06-18 06:00:00+00:00             BETR801   \n",
       "1     Antwerpen      BE  2019-06-17 08:00:00+00:00             BETR801   \n",
       "2     Antwerpen      BE  2019-06-17 07:00:00+00:00             BETR801   \n",
       "3     Antwerpen      BE  2019-06-17 06:00:00+00:00             BETR801   \n",
       "4     Antwerpen      BE  2019-06-17 05:00:00+00:00             BETR801   \n",
       "...         ...     ...                        ...                 ...   \n",
       "5267     London      GB  2019-04-09 06:00:00+00:00  London Westminster   \n",
       "5268     London      GB  2019-04-09 05:00:00+00:00  London Westminster   \n",
       "5269     London      GB  2019-04-09 04:00:00+00:00  London Westminster   \n",
       "5270     London      GB  2019-04-09 03:00:00+00:00  London Westminster   \n",
       "5271     London      GB  2019-04-09 02:00:00+00:00  London Westminster   \n",
       "\n",
       "     parameter  value   unit  \n",
       "0         pm25   18.0  µg/m³  \n",
       "1         pm25    6.5  µg/m³  \n",
       "2         pm25   18.5  µg/m³  \n",
       "3         pm25   16.0  µg/m³  \n",
       "4         pm25    7.5  µg/m³  \n",
       "...        ...    ...    ...  \n",
       "5267       no2   41.0  µg/m³  \n",
       "5268       no2   41.0  µg/m³  \n",
       "5269       no2   41.0  µg/m³  \n",
       "5270       no2   67.0  µg/m³  \n",
       "5271       no2   67.0  µg/m³  \n",
       "\n",
       "[5272 rows x 7 columns]"
      ]
     },
     "execution_count": 4,
     "metadata": {},
     "output_type": "execute_result"
    }
   ],
   "source": [
    "air_quality"
   ]
  },
  {
   "cell_type": "code",
   "execution_count": 5,
   "id": "913683fa",
   "metadata": {},
   "outputs": [
    {
     "data": {
      "text/plain": [
       "array(['Antwerpen', 'London', 'Paris'], dtype=object)"
      ]
     },
     "execution_count": 5,
     "metadata": {},
     "output_type": "execute_result"
    }
   ],
   "source": [
    "air_quality.city.unique()"
   ]
  },
  {
   "cell_type": "code",
   "execution_count": 6,
   "id": "4de97904",
   "metadata": {},
   "outputs": [
    {
     "data": {
      "text/plain": [
       "array(['BE', 'GB', 'FR'], dtype=object)"
      ]
     },
     "execution_count": 6,
     "metadata": {},
     "output_type": "execute_result"
    }
   ],
   "source": [
    "air_quality.country.unique()"
   ]
  },
  {
   "cell_type": "code",
   "execution_count": 7,
   "id": "a0baf505",
   "metadata": {},
   "outputs": [
    {
     "data": {
      "text/plain": [
       "array(['BETR801', 'London Westminster', 'FR04014'], dtype=object)"
      ]
     },
     "execution_count": 7,
     "metadata": {},
     "output_type": "execute_result"
    }
   ],
   "source": [
    "air_quality.location.unique()"
   ]
  },
  {
   "cell_type": "code",
   "execution_count": 8,
   "id": "91afa876",
   "metadata": {},
   "outputs": [
    {
     "data": {
      "text/plain": [
       "array(['pm25', 'no2'], dtype=object)"
      ]
     },
     "execution_count": 8,
     "metadata": {},
     "output_type": "execute_result"
    }
   ],
   "source": [
    "air_quality.parameter.unique()"
   ]
  },
  {
   "cell_type": "markdown",
   "id": "69465999",
   "metadata": {},
   "source": [
    "### using pandas datetime properties"
   ]
  },
  {
   "cell_type": "code",
   "execution_count": 10,
   "id": "20cbb05a",
   "metadata": {},
   "outputs": [],
   "source": [
    "air_quality[\"date.utc\"] = pd.to_datetime(air_quality[\"date.utc\"])"
   ]
  },
  {
   "cell_type": "code",
   "execution_count": 11,
   "id": "c4eca2eb",
   "metadata": {},
   "outputs": [
    {
     "data": {
      "text/plain": [
       "0      2019-06-18 06:00:00+00:00\n",
       "1      2019-06-17 08:00:00+00:00\n",
       "2      2019-06-17 07:00:00+00:00\n",
       "3      2019-06-17 06:00:00+00:00\n",
       "4      2019-06-17 05:00:00+00:00\n",
       "                  ...           \n",
       "5267   2019-04-09 06:00:00+00:00\n",
       "5268   2019-04-09 05:00:00+00:00\n",
       "5269   2019-04-09 04:00:00+00:00\n",
       "5270   2019-04-09 03:00:00+00:00\n",
       "5271   2019-04-09 02:00:00+00:00\n",
       "Name: date.utc, Length: 5272, dtype: datetime64[ns, UTC]"
      ]
     },
     "execution_count": 11,
     "metadata": {},
     "output_type": "execute_result"
    }
   ],
   "source": [
    "air_quality[\"date.utc\"]"
   ]
  },
  {
   "cell_type": "markdown",
   "id": "d7c6b75a",
   "metadata": {},
   "source": [
    "### what is the start and end date of the time series data set we are working with?"
   ]
  },
  {
   "cell_type": "code",
   "execution_count": 12,
   "id": "da30501c",
   "metadata": {},
   "outputs": [
    {
     "data": {
      "text/plain": [
       "(Timestamp('2019-04-09 01:00:00+0000', tz='UTC'),\n",
       " Timestamp('2019-06-21 00:00:00+0000', tz='UTC'))"
      ]
     },
     "execution_count": 12,
     "metadata": {},
     "output_type": "execute_result"
    }
   ],
   "source": [
    "air_quality[\"date.utc\"].min(), air_quality[\"date.utc\"].max()"
   ]
  },
  {
   "cell_type": "code",
   "execution_count": 13,
   "id": "950ae594",
   "metadata": {},
   "outputs": [
    {
     "data": {
      "text/plain": [
       "Timedelta('72 days 23:00:00')"
      ]
     },
     "execution_count": 13,
     "metadata": {},
     "output_type": "execute_result"
    }
   ],
   "source": [
    "air_quality[\"date.utc\"].max() - air_quality[\"date.utc\"].min()"
   ]
  },
  {
   "cell_type": "markdown",
   "id": "49f76ecf",
   "metadata": {},
   "source": [
    "### I want to add a new column to the DateFrame containing only the month of the measurement"
   ]
  },
  {
   "cell_type": "code",
   "execution_count": 14,
   "id": "4c1ee554",
   "metadata": {},
   "outputs": [],
   "source": [
    "air_quality[\"month\"] = air_quality[\"date.utc\"].dt.month"
   ]
  },
  {
   "cell_type": "code",
   "execution_count": 15,
   "id": "1ec3b69b",
   "metadata": {},
   "outputs": [
    {
     "data": {
      "text/html": [
       "<div>\n",
       "<style scoped>\n",
       "    .dataframe tbody tr th:only-of-type {\n",
       "        vertical-align: middle;\n",
       "    }\n",
       "\n",
       "    .dataframe tbody tr th {\n",
       "        vertical-align: top;\n",
       "    }\n",
       "\n",
       "    .dataframe thead th {\n",
       "        text-align: right;\n",
       "    }\n",
       "</style>\n",
       "<table border=\"1\" class=\"dataframe\">\n",
       "  <thead>\n",
       "    <tr style=\"text-align: right;\">\n",
       "      <th></th>\n",
       "      <th>city</th>\n",
       "      <th>country</th>\n",
       "      <th>date.utc</th>\n",
       "      <th>location</th>\n",
       "      <th>parameter</th>\n",
       "      <th>value</th>\n",
       "      <th>unit</th>\n",
       "      <th>month</th>\n",
       "    </tr>\n",
       "  </thead>\n",
       "  <tbody>\n",
       "    <tr>\n",
       "      <th>0</th>\n",
       "      <td>Antwerpen</td>\n",
       "      <td>BE</td>\n",
       "      <td>2019-06-18 06:00:00+00:00</td>\n",
       "      <td>BETR801</td>\n",
       "      <td>pm25</td>\n",
       "      <td>18.0</td>\n",
       "      <td>µg/m³</td>\n",
       "      <td>6</td>\n",
       "    </tr>\n",
       "    <tr>\n",
       "      <th>1</th>\n",
       "      <td>Antwerpen</td>\n",
       "      <td>BE</td>\n",
       "      <td>2019-06-17 08:00:00+00:00</td>\n",
       "      <td>BETR801</td>\n",
       "      <td>pm25</td>\n",
       "      <td>6.5</td>\n",
       "      <td>µg/m³</td>\n",
       "      <td>6</td>\n",
       "    </tr>\n",
       "    <tr>\n",
       "      <th>2</th>\n",
       "      <td>Antwerpen</td>\n",
       "      <td>BE</td>\n",
       "      <td>2019-06-17 07:00:00+00:00</td>\n",
       "      <td>BETR801</td>\n",
       "      <td>pm25</td>\n",
       "      <td>18.5</td>\n",
       "      <td>µg/m³</td>\n",
       "      <td>6</td>\n",
       "    </tr>\n",
       "    <tr>\n",
       "      <th>3</th>\n",
       "      <td>Antwerpen</td>\n",
       "      <td>BE</td>\n",
       "      <td>2019-06-17 06:00:00+00:00</td>\n",
       "      <td>BETR801</td>\n",
       "      <td>pm25</td>\n",
       "      <td>16.0</td>\n",
       "      <td>µg/m³</td>\n",
       "      <td>6</td>\n",
       "    </tr>\n",
       "    <tr>\n",
       "      <th>4</th>\n",
       "      <td>Antwerpen</td>\n",
       "      <td>BE</td>\n",
       "      <td>2019-06-17 05:00:00+00:00</td>\n",
       "      <td>BETR801</td>\n",
       "      <td>pm25</td>\n",
       "      <td>7.5</td>\n",
       "      <td>µg/m³</td>\n",
       "      <td>6</td>\n",
       "    </tr>\n",
       "    <tr>\n",
       "      <th>...</th>\n",
       "      <td>...</td>\n",
       "      <td>...</td>\n",
       "      <td>...</td>\n",
       "      <td>...</td>\n",
       "      <td>...</td>\n",
       "      <td>...</td>\n",
       "      <td>...</td>\n",
       "      <td>...</td>\n",
       "    </tr>\n",
       "    <tr>\n",
       "      <th>5267</th>\n",
       "      <td>London</td>\n",
       "      <td>GB</td>\n",
       "      <td>2019-04-09 06:00:00+00:00</td>\n",
       "      <td>London Westminster</td>\n",
       "      <td>no2</td>\n",
       "      <td>41.0</td>\n",
       "      <td>µg/m³</td>\n",
       "      <td>4</td>\n",
       "    </tr>\n",
       "    <tr>\n",
       "      <th>5268</th>\n",
       "      <td>London</td>\n",
       "      <td>GB</td>\n",
       "      <td>2019-04-09 05:00:00+00:00</td>\n",
       "      <td>London Westminster</td>\n",
       "      <td>no2</td>\n",
       "      <td>41.0</td>\n",
       "      <td>µg/m³</td>\n",
       "      <td>4</td>\n",
       "    </tr>\n",
       "    <tr>\n",
       "      <th>5269</th>\n",
       "      <td>London</td>\n",
       "      <td>GB</td>\n",
       "      <td>2019-04-09 04:00:00+00:00</td>\n",
       "      <td>London Westminster</td>\n",
       "      <td>no2</td>\n",
       "      <td>41.0</td>\n",
       "      <td>µg/m³</td>\n",
       "      <td>4</td>\n",
       "    </tr>\n",
       "    <tr>\n",
       "      <th>5270</th>\n",
       "      <td>London</td>\n",
       "      <td>GB</td>\n",
       "      <td>2019-04-09 03:00:00+00:00</td>\n",
       "      <td>London Westminster</td>\n",
       "      <td>no2</td>\n",
       "      <td>67.0</td>\n",
       "      <td>µg/m³</td>\n",
       "      <td>4</td>\n",
       "    </tr>\n",
       "    <tr>\n",
       "      <th>5271</th>\n",
       "      <td>London</td>\n",
       "      <td>GB</td>\n",
       "      <td>2019-04-09 02:00:00+00:00</td>\n",
       "      <td>London Westminster</td>\n",
       "      <td>no2</td>\n",
       "      <td>67.0</td>\n",
       "      <td>µg/m³</td>\n",
       "      <td>4</td>\n",
       "    </tr>\n",
       "  </tbody>\n",
       "</table>\n",
       "<p>5272 rows × 8 columns</p>\n",
       "</div>"
      ],
      "text/plain": [
       "           city country                  date.utc            location  \\\n",
       "0     Antwerpen      BE 2019-06-18 06:00:00+00:00             BETR801   \n",
       "1     Antwerpen      BE 2019-06-17 08:00:00+00:00             BETR801   \n",
       "2     Antwerpen      BE 2019-06-17 07:00:00+00:00             BETR801   \n",
       "3     Antwerpen      BE 2019-06-17 06:00:00+00:00             BETR801   \n",
       "4     Antwerpen      BE 2019-06-17 05:00:00+00:00             BETR801   \n",
       "...         ...     ...                       ...                 ...   \n",
       "5267     London      GB 2019-04-09 06:00:00+00:00  London Westminster   \n",
       "5268     London      GB 2019-04-09 05:00:00+00:00  London Westminster   \n",
       "5269     London      GB 2019-04-09 04:00:00+00:00  London Westminster   \n",
       "5270     London      GB 2019-04-09 03:00:00+00:00  London Westminster   \n",
       "5271     London      GB 2019-04-09 02:00:00+00:00  London Westminster   \n",
       "\n",
       "     parameter  value   unit  month  \n",
       "0         pm25   18.0  µg/m³      6  \n",
       "1         pm25    6.5  µg/m³      6  \n",
       "2         pm25   18.5  µg/m³      6  \n",
       "3         pm25   16.0  µg/m³      6  \n",
       "4         pm25    7.5  µg/m³      6  \n",
       "...        ...    ...    ...    ...  \n",
       "5267       no2   41.0  µg/m³      4  \n",
       "5268       no2   41.0  µg/m³      4  \n",
       "5269       no2   41.0  µg/m³      4  \n",
       "5270       no2   67.0  µg/m³      4  \n",
       "5271       no2   67.0  µg/m³      4  \n",
       "\n",
       "[5272 rows x 8 columns]"
      ]
     },
     "execution_count": 15,
     "metadata": {},
     "output_type": "execute_result"
    }
   ],
   "source": [
    "air_quality"
   ]
  },
  {
   "cell_type": "markdown",
   "id": "b417c785",
   "metadata": {},
   "source": [
    "### What is the average NO2 concentration for each day of the week for each of the measurement locations"
   ]
  },
  {
   "cell_type": "code",
   "execution_count": 17,
   "id": "55a6d1af",
   "metadata": {},
   "outputs": [
    {
     "data": {
      "text/plain": [
       "date.utc  location          \n",
       "0         BETR801               25.065657\n",
       "          FR04014               29.495417\n",
       "          London Westminster    21.173077\n",
       "1         BETR801               32.423077\n",
       "          FR04014               34.402381\n",
       "          London Westminster    26.102510\n",
       "2         BETR801               18.812500\n",
       "          FR04014               30.130579\n",
       "          London Westminster    22.427039\n",
       "3         BETR801               18.892857\n",
       "          FR04014               28.749378\n",
       "          London Westminster    21.354906\n",
       "4         BETR801               18.180000\n",
       "          FR04014               32.980851\n",
       "          London Westminster    20.756930\n",
       "5         BETR801               24.500000\n",
       "          FR04014               24.955752\n",
       "          London Westminster    19.367580\n",
       "6         BETR801               27.297101\n",
       "          FR04014               24.467917\n",
       "          London Westminster    18.980349\n",
       "Name: value, dtype: float64"
      ]
     },
     "execution_count": 17,
     "metadata": {},
     "output_type": "execute_result"
    }
   ],
   "source": [
    "air_quality.groupby([air_quality[\"date.utc\"].dt.weekday, \"location\"])[\"value\"].mean()"
   ]
  },
  {
   "cell_type": "markdown",
   "id": "8f5889b5",
   "metadata": {},
   "source": [
    "### plot the typical NO2 pattern during the day of our time series of all stations together.in other words, what is the average value for each hour of the day?"
   ]
  },
  {
   "cell_type": "code",
   "execution_count": 19,
   "id": "088226ae",
   "metadata": {},
   "outputs": [
    {
     "data": {
      "text/plain": [
       "<Axes: xlabel='date.utc'>"
      ]
     },
     "execution_count": 19,
     "metadata": {},
     "output_type": "execute_result"
    },
    {
     "data": {
      "image/png": "[encoded data removed]",
      "text/plain": [
       "<Figure size 1200x400 with 1 Axes>"
      ]
     },
     "metadata": {},
     "output_type": "display_data"
    }
   ],
   "source": [
    "fig, axs = plt.subplots(figsize=(12, 4))\n",
    "air_quality.groupby(air_quality[\"date.utc\"].dt.hour)[\"value\"].mean().plot(kind=\"bar\", rot=0, ax=axs)"
   ]
  },
  {
   "cell_type": "markdown",
   "id": "83d8bbbb",
   "metadata": {},
   "source": [
    "### Datetime as index"
   ]
  },
  {
   "cell_type": "code",
   "execution_count": null,
   "id": "bfc3c925",
   "metadata": {},
   "outputs": [],
   "source": []
  },
  {
   "cell_type": "code",
   "execution_count": null,
   "id": "fdde0e66",
   "metadata": {},
   "outputs": [],
   "source": []
  },
  {
   "cell_type": "code",
   "execution_count": null,
   "id": "d80ae8bd",
   "metadata": {},
   "outputs": [],
   "source": []
  }
 ],
 "metadata": {
  "kernelspec": {
   "display_name": "Python 3 (ipykernel)",
   "language": "python",
   "name": "python3"
  },
  "language_info": {
   "codemirror_mode": {
    "name": "ipython",
    "version": 3
   },
   "file_extension": ".py",
   "mimetype": "text/x-python",
   "name": "python",
   "nbconvert_exporter": "python",
   "pygments_lexer": "ipython3",
   "version": "3.11.2"
  }
 },
 "nbformat": 4,
 "nbformat_minor": 5
}
